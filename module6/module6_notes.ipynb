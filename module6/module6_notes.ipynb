{
 "cells": [
  {
   "cell_type": "markdown",
   "metadata": {},
   "source": [
    "# Introduction to Networks with Networkx"
   ]
  },
  {
   "cell_type": "code",
   "execution_count": 1,
   "metadata": {
    "collapsed": true
   },
   "outputs": [],
   "source": [
    "import networkx as nx\n",
    "\n",
    "## Initialize new graph.\n",
    "G = nx.Graph()"
   ]
  },
  {
   "cell_type": "markdown",
   "metadata": {},
   "source": [
    "## Generating Graphs Manually \n",
    "### Adding Nodes"
   ]
  },
  {
   "cell_type": "code",
   "execution_count": 2,
   "metadata": {
    "collapsed": true
   },
   "outputs": [],
   "source": [
    "## Manually adding nodes: one at a time.\n",
    "G.add_node('Alpha')"
   ]
  },
  {
   "cell_type": "code",
   "execution_count": 3,
   "metadata": {
    "collapsed": true
   },
   "outputs": [],
   "source": [
    "## Manually adding nodes: multiple at once.\n",
    "G.add_nodes_from(['Beta','Gamma','Delta','Kappa','Lambda'])"
   ]
  },
  {
   "cell_type": "code",
   "execution_count": 4,
   "metadata": {},
   "outputs": [
    {
     "data": {
      "text/plain": [
       "['Alpha', 'Beta', 'Gamma', 'Delta', 'Kappa', 'Lambda']"
      ]
     },
     "execution_count": 4,
     "metadata": {},
     "output_type": "execute_result"
    }
   ],
   "source": [
    "## Return current nodes.\n",
    "G.nodes()"
   ]
  },
  {
   "cell_type": "markdown",
   "metadata": {},
   "source": [
    "### Adding Edges"
   ]
  },
  {
   "cell_type": "code",
   "execution_count": 5,
   "metadata": {
    "collapsed": true
   },
   "outputs": [],
   "source": [
    "## Manually adding edges: one at a time.\n",
    "G.add_edge('Alpha','Beta')"
   ]
  },
  {
   "cell_type": "code",
   "execution_count": 6,
   "metadata": {},
   "outputs": [],
   "source": [
    "## Manually adding edges: multiple at once.\n",
    "G.add_edges_from([('Alpha','Gamma'), \n",
    "                  ('Alpha','Delta')])"
   ]
  },
  {
   "cell_type": "code",
   "execution_count": 7,
   "metadata": {
    "collapsed": true
   },
   "outputs": [],
   "source": [
    "## Manually adding edges: weighted edges.\n",
    "G.add_weighted_edges_from([('Alpha','Kappa',0.1), \n",
    "                           ('Alpha','Lambda',0.5)])"
   ]
  },
  {
   "cell_type": "code",
   "execution_count": 8,
   "metadata": {
    "collapsed": true
   },
   "outputs": [],
   "source": [
    "## Set graph to undirected.\n",
    "G = G.to_undirected()"
   ]
  },
  {
   "cell_type": "code",
   "execution_count": 9,
   "metadata": {},
   "outputs": [
    {
     "data": {
      "text/plain": [
       "[('Alpha', 'Beta', {}),\n",
       " ('Alpha', 'Gamma', {}),\n",
       " ('Alpha', 'Delta', {}),\n",
       " ('Alpha', 'Kappa', {'weight': 0.1}),\n",
       " ('Alpha', 'Lambda', {'weight': 0.5})]"
      ]
     },
     "execution_count": 9,
     "metadata": {},
     "output_type": "execute_result"
    }
   ],
   "source": [
    "## Return current weights.\n",
    "G.edges(data=True)"
   ]
  },
  {
   "cell_type": "markdown",
   "metadata": {},
   "source": [
    "## Generating Graphs from Datasets\n",
    "### From Edgelist"
   ]
  },
  {
   "cell_type": "code",
   "execution_count": 10,
   "metadata": {},
   "outputs": [
    {
     "data": {
      "text/plain": [
       "[('Napoleon', 'Myriel', {'weight': 1.0}),\n",
       " ('Myriel', 'MlleBaptistine', {'weight': 8.0}),\n",
       " ('Myriel', 'MmeMagloire', {'weight': 10.0}),\n",
       " ('Myriel', 'CountessDeLo', {'weight': 1.0}),\n",
       " ('Myriel', 'Geborand', {'weight': 1.0})]"
      ]
     },
     "execution_count": 10,
     "metadata": {},
     "output_type": "execute_result"
    }
   ],
   "source": [
    "import os\n",
    "\n",
    "## From from edgelist.\n",
    "G = nx.read_weighted_edgelist(os.path.join('lesmiserables','edgelist.txt'))\n",
    "G.edges(data=True)[:5]"
   ]
  },
  {
   "cell_type": "markdown",
   "metadata": {},
   "source": [
    "### From NumPy Array"
   ]
  },
  {
   "cell_type": "code",
   "execution_count": 11,
   "metadata": {},
   "outputs": [
    {
     "name": "stdout",
     "output_type": "stream",
     "text": [
      "[(0, 1, {'weight': 1.0}), (1, 2, {'weight': 8.0}), (1, 3, {'weight': 10.0}), (1, 4, {'weight': 1.0}), (1, 5, {'weight': 1.0})]\n",
      "[(0, {'label': 'Napoleon'}), (1, {'label': 'Myriel'}), (2, {'label': 'MlleBaptistine'}), (3, {'label': 'MmeMagloire'}), (4, {'label': 'CountessDeLo'})]\n"
     ]
    }
   ],
   "source": [
    "import numpy as np\n",
    "\n",
    "## Load NumPy compressed file.\n",
    "npz = np.load(os.path.join('lesmiserables','adjmat.npz'))\n",
    "\n",
    "## Make graph from adjacency matrix.\n",
    "G = nx.from_numpy_matrix(npz['adjmat'])\n",
    "print(G.edges(data=True)[:5])\n",
    "\n",
    "## Gives nodes names.\n",
    "node_labels = dict()\n",
    "for n, label in enumerate(npz['labels']):\n",
    "    node_labels[n] = label\n",
    "    \n",
    "nx.set_node_attributes(G, 'label', node_labels)\n",
    "print(G.nodes(data=True)[:5])"
   ]
  },
  {
   "cell_type": "markdown",
   "metadata": {},
   "source": [
    "### From Pandas DataFrame"
   ]
  },
  {
   "cell_type": "code",
   "execution_count": 12,
   "metadata": {},
   "outputs": [
    {
     "data": {
      "text/html": [
       "<div>\n",
       "<style>\n",
       "    .dataframe thead tr:only-child th {\n",
       "        text-align: right;\n",
       "    }\n",
       "\n",
       "    .dataframe thead th {\n",
       "        text-align: left;\n",
       "    }\n",
       "\n",
       "    .dataframe tbody tr th {\n",
       "        vertical-align: top;\n",
       "    }\n",
       "</style>\n",
       "<table border=\"1\" class=\"dataframe\">\n",
       "  <thead>\n",
       "    <tr style=\"text-align: right;\">\n",
       "      <th></th>\n",
       "      <th>source</th>\n",
       "      <th>target</th>\n",
       "      <th>weight</th>\n",
       "    </tr>\n",
       "  </thead>\n",
       "  <tbody>\n",
       "    <tr>\n",
       "      <th>0</th>\n",
       "      <td>Napoleon</td>\n",
       "      <td>Myriel</td>\n",
       "      <td>1</td>\n",
       "    </tr>\n",
       "    <tr>\n",
       "      <th>1</th>\n",
       "      <td>MlleBaptistine</td>\n",
       "      <td>Myriel</td>\n",
       "      <td>8</td>\n",
       "    </tr>\n",
       "    <tr>\n",
       "      <th>2</th>\n",
       "      <td>MmeMagloire</td>\n",
       "      <td>Myriel</td>\n",
       "      <td>10</td>\n",
       "    </tr>\n",
       "    <tr>\n",
       "      <th>3</th>\n",
       "      <td>MmeMagloire</td>\n",
       "      <td>MlleBaptistine</td>\n",
       "      <td>6</td>\n",
       "    </tr>\n",
       "    <tr>\n",
       "      <th>4</th>\n",
       "      <td>CountessDeLo</td>\n",
       "      <td>Myriel</td>\n",
       "      <td>1</td>\n",
       "    </tr>\n",
       "  </tbody>\n",
       "</table>\n",
       "</div>"
      ],
      "text/plain": [
       "           source          target  weight\n",
       "0        Napoleon          Myriel       1\n",
       "1  MlleBaptistine          Myriel       8\n",
       "2     MmeMagloire          Myriel      10\n",
       "3     MmeMagloire  MlleBaptistine       6\n",
       "4    CountessDeLo          Myriel       1"
      ]
     },
     "execution_count": 12,
     "metadata": {},
     "output_type": "execute_result"
    }
   ],
   "source": [
    "from pandas import read_csv\n",
    "\n",
    "## Load DataFrame.\n",
    "df = read_csv(os.path.join('lesmiserables','edgelist.csv'))\n",
    "df.head(5)"
   ]
  },
  {
   "cell_type": "code",
   "execution_count": 13,
   "metadata": {},
   "outputs": [
    {
     "data": {
      "text/plain": [
       "[('Napoleon', 'Myriel', {'weight': 1}),\n",
       " ('Myriel', 'MlleBaptistine', {'weight': 8}),\n",
       " ('Myriel', 'MmeMagloire', {'weight': 10}),\n",
       " ('Myriel', 'CountessDeLo', {'weight': 1}),\n",
       " ('Myriel', 'Geborand', {'weight': 1})]"
      ]
     },
     "execution_count": 13,
     "metadata": {},
     "output_type": "execute_result"
    }
   ],
   "source": [
    "## Convert to graph.\n",
    "G = nx.from_pandas_dataframe(df, 'source', 'target', edge_attr=['weight'])\n",
    "G.edges(data=True)[:5]"
   ]
  }
 ],
 "metadata": {
  "kernelspec": {
   "display_name": "Python 3",
   "language": "python",
   "name": "python3"
  },
  "language_info": {
   "codemirror_mode": {
    "name": "ipython",
    "version": 3
   },
   "file_extension": ".py",
   "mimetype": "text/x-python",
   "name": "python",
   "nbconvert_exporter": "python",
   "pygments_lexer": "ipython3",
   "version": "3.6.1"
  },
  "toc": {
   "colors": {
    "hover_highlight": "#DAA520",
    "navigate_num": "#000000",
    "navigate_text": "#333333",
    "running_highlight": "#FF0000",
    "selected_highlight": "#FFD700",
    "sidebar_border": "#EEEEEE",
    "wrapper_background": "#FFFFFF"
   },
   "moveMenuLeft": true,
   "nav_menu": {
    "height": "156px",
    "width": "252px"
   },
   "navigate_menu": true,
   "number_sections": false,
   "sideBar": true,
   "threshold": 4,
   "toc_cell": false,
   "toc_section_display": "block",
   "toc_window_display": false,
   "widenNotebook": false
  }
 },
 "nbformat": 4,
 "nbformat_minor": 2
}
